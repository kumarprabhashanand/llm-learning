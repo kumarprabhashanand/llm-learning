{
 "cells": [
  {
   "cell_type": "code",
   "execution_count": 10,
   "metadata": {},
   "outputs": [],
   "source": [
    "import os"
   ]
  },
  {
   "cell_type": "code",
   "execution_count": 11,
   "metadata": {},
   "outputs": [],
   "source": [
    "from langchain import hub\n",
    "from langchain_community.vectorstores import Chroma\n",
    "from langchain.document_loaders import PyPDFLoader\n",
    "from langchain.chains import RetrievalQA\n"
   ]
  },
  {
   "cell_type": "code",
   "execution_count": 12,
   "metadata": {},
   "outputs": [],
   "source": [
    "pdf_path = \"./pdf/XP.pdf\"\n",
    "loader = PyPDFLoader(pdf_path)"
   ]
  },
  {
   "cell_type": "code",
   "execution_count": 13,
   "metadata": {},
   "outputs": [
    {
     "name": "stderr",
     "output_type": "stream",
     "text": [
      "Ignoring wrong pointing object 26 0 (offset 0)\n"
     ]
    },
    {
     "data": {
      "text/plain": [
       "[Document(page_content='1Chapter 1What is XP?Extreme Programming (XP) is about social change. It is about lettinggo of habits and patterns that were adaptive in the past, but now get inthe way of us doing our best work. It is about giving up the defensesthat protect us but interfere with our productivity. It may leave us feel-ing exposed. It is about being open about what we are capable of doing and thendoing it. And, allowing and expecting others to do the same. It isabout getting past our adolescent surety that “I know better thaneveryone else and all I need is to be left alone to be the greatest.” It isabout ﬁnding our adult place in the larger world, ﬁnding our place inthe community including the realm of business/work. It is about theprocess of becoming more of our best selves and in the process ourbest as developers. And, it is about writing great code that is reallygood for business.Good relationships lead to good business. Productivity and conﬁ-dence are related to our human relationships in the workplace as well asto our coding or other work activities. You need both technique andgood relationships to be successful. XP addresses both.Prepare for success. Don’t protect yourself from success by holdingback. Do your best and then deal with the consequences. That’sextreme. You leave yourself exposed. For some people that is incredi-bly scary, for others it’s daily life. That is why there are such polarizedreactions to XP.', metadata={'source': './pdf/XP.pdf', 'page': 0}),\n",
       " Document(page_content='2Extreme Programming Explained: Embrace ChangeXP is a style of software development focusing on excellent applica-tion of programming techniques, clear communication, and teamworkwhich allows us to accomplish things we previously could not evenimagine. XP includes:✧A philosophy of software development based on the values ofcommunication, feedback, simplicity, courage, and respect.✧A body of practices proven useful in improving software develop-ment. The practices complement each other, amplifying theireffects. They are chosen as expressions of the values.✧A set of complementary principles, intellectual techniques fortranslating the values into practice, useful when there isn’t a prac-tice handy for your particular problem.✧A community that shares these values and many of the samepractices.XP is a path of improvement to excellence for people coming togetherto develop software. It is distinguished from other methodologies by:✧Its short development cycles, resulting in early, concrete, and con-tinuing feedback.✧Its incremental planning approach, which quickly comes up with anoverall plan that is expected to evolve through the life of the project.✧Its ability to ﬂexibly schedule the implementation of functionality,responding to changing business needs.✧Its reliance on automated tests written by programmers, custom-ers, and testers to monitor the progress of development, to allowthe system to evolve, and to catch defects early.✧Its reliance on oral communication, tests, and source code tocommunicate system structure and intent.✧Its reliance on an evolutionary design process that lasts as long asthe system lasts.✧Its reliance on the close collaboration of actively engaged individ-uals with ordinary talent.✧Its reliance on practices that work with both the short-term instinctsof the team members and the long-term interests of the project.', metadata={'source': './pdf/XP.pdf', 'page': 1}),\n",
       " Document(page_content='Chapter 1 What is XP?3The ﬁrst edition of Extreme Programming Explained: EmbraceChangehad a deﬁnition of XP with the advantage of clarity: “XP is alightweight methodology for small-to-medium-sized teams developingsoftware in the face of vague or rapidly changing requirements.” Whilethis statement was true about the origin and intent of XP, it doesn’t tellthe whole story. In the ﬁve years since the publication of the ﬁrst edi-tion teams have pushed XP much further than the original deﬁnition.XP can be described this way:✧XP is lightweight. In XP you only do what you need to do to cre-ate value for the customer. You can’t carry a lot of baggage andmove fast. However, there is no freeze-dried software process.The body of technical knowledge necessary to be an outstandingteam is large and growing.✧XP is a methodology based on addressing constraints in softwaredevelopment. It does not address project portfolio management,ﬁnancial justiﬁcation of projects, operations, marketing, or sales.XP has implications in all of these areas, but does not addressthese practices directly. Methodology is often interpreted to mean“a set of rules to follow that guarantee success.” Methodologiesdon’t work like programs. People aren’t computers. Every teamdoes XP differently with varying degrees of success.✧XP can work with teams of any size. Five years ago, I did not wantto claim too much. Others have since put XP to use in a widerange of projects and have had success with both large and smallprojects and teams. The values and principles behind XP are appli-cable at any scale. The practices need to be augmented and alteredwhen many people are involved.✧XP adapts to vague or rapidly changing requirements. XP is stillgood for this situation, which is fortunate because requirementsneed to change to adapt to rapid shifts in the modern businessworld. However, teams have also successfully used XP whererequirements don’t seem volatile, like porting projects.XP is my attempt to reconcile humanity and productivity in my ownpractice of software development and to share that reconciliation. I hadbegun to notice that the more humanely I treated myself and others,', metadata={'source': './pdf/XP.pdf', 'page': 2}),\n",
       " Document(page_content='4Extreme Programming Explained: Embrace Changethe more productive we all became. The key to success lies not in self-mortiﬁcation but in acceptance that we are people in a person-to-per-son business.Technique also matters. We are technical people in a technical ﬁeld.There are better ways and worse ways of working. The pursuit of excel-lence in technique is critical in a social style of development. Techniquesupports trust relationships. If you can accurately estimate your work,deliver quality the ﬁrst time, and create rapid feedback loops; then youcan be a trustworthy partner. XP demands that participants learn a highlevel of technique in service of the team’s goals.XP means giving up old habits of working for new ways tailored totoday’s reality. The habits, attitudes, and values of our early yearsworked then; but may not be our best choices in the current world ofteam software development. Good, safe social interaction is as neces-sary to successful XP development as good technical skills.One example is the concept that vulnerability is safety. The old habitof holding something back in order to be safe doesn’t really work.Holding back that last 20% of effort doesn’t protect me. When myproject fails, the fact that I didn’t give my all doesn’t actually make mefeel better. It doesn’t protect me from a sense of failure that I couldn’tmake the project work. If I do my very best writing a program and peo-ple don’t like it, I can still feel justly good about myself. This attitudeallows me to feel safe no matter the circumstance. If how I feel is basedon an accurate read on whether I did my best, I can feel good aboutmyself by doing my best.XP teams play full out to win and accept responsibility for the conse-quences. When self-worth is not tied to the project, we are free to doour best work in any circumstance. In XP you don’t prepare for failure.Keeping a little distance in relationships, holding back effort eitherthrough underwork or overwork, putting off feedback for anotherround of responsibility diffusion: none of these behaviors have a placeon an XP team.You may have enough time, money, or skills on your team or you maynot; but it is always best to act as if there is going to be enough. This“mentality of sufﬁciency” is movingly documented by anthropologistColin Turnbull in The Mountain PeopleandThe Forest People. He con-trasts two societies: a resource-starved tribe of lying, cheating backstab-bers and a resource-rich, cooperative, loving tribe. I often ask developers', metadata={'source': './pdf/XP.pdf', 'page': 3}),\n",
       " Document(page_content='Chapter 1 What is XP?5in a dilemma, “How would you do it if you had enough time?” You cando your best work even when there are constraints. Fussing about theconstraints distracts you from your goals. Your clear self does the bestwork no matter what the constraints are. If you have six weeks to get a project done, the only thing you con-trol is your own behavior. Will you get six weeks’ worth of work doneor less? You can’t control others’ expectations. You can tell them whatyou know about the project so their expectations have a chance ofmatching reality. My terror of deadlines vanished when I learned thislesson. It’s not my job to “manage” someone else’s expectations. It’stheir job to manage their own expectations. It’s my job to do my bestand to communicate clearly.XP is a software development discipline that addresses risk at all lev-els of the development process. XP is also productive, produces high-quality software, and is a lot of fun to execute. How does XP addressthe risks in the development process?✧Schedule slips—XP calls for short release cycles, a few months atmost, so the scope of any slip is limited. Within a release, XP usesone-week iterations of customer-requested features to create ﬁne-grained feedback about progress. Within an iteration, XP planswith short tasks, so the team can solve problems during the cycle.Finally, XP calls for implementing the highest priority features ﬁrst,so any features that slip past the release will be of lower value.✧Project canceled—XP asks the business-oriented part of the teamto choose the smallest release that makes the most business sense,so there is less to go wrong before deploying and the value of thesoftware is greatest.✧System goes sour—XP creates and maintains a comprehensive suiteof automatedtests, which are run and rerun after every change(many times a day) to ensure a quality baseline. XP always keepsthe system in deployable condition. Problems are not allowed toaccumulate.✧Defect rate—XP tests from the perspective of both programmerswriting tests function-by-function and customers writing testsprogram-feature-by-program-feature.✧Business misunderstood—XP calls for business-oriented people tobe ﬁrst-class members of the team. The speciﬁcation of the project', metadata={'source': './pdf/XP.pdf', 'page': 4}),\n",
       " Document(page_content='6Extreme Programming Explained: Embrace Changeis continuously reﬁned during development, so learning by thecustomer and the team can be reﬂected in the software.✧Business changes—XP shortens the release cycle, so there is lesschange during the development of a single release. During arelease, the customer is welcome to substitute new functionalityfor functionality not yet completed. The team doesn’t even noticeif it is working on newly discovered functionality or featuresdeﬁned years ago.✧False feature rich—XP insists that only the highest priority tasksare addressed.✧Staff turnover—XP asks programmers to accept responsibility forestimating and completing their own work, gives them feedbackabout the actual time taken so their estimates can improve, andrespects those estimates. The rules for who can make and changeestimates are clear. Thus, there is less chance for a programmer toget frustrated by being asked to do the obviously impossible. XPalso encourages human contact among the team, reducing theloneliness that is often at the heart of job dissatisfaction. Finally,XP incorporates an explicit model of staff turnover. New teammembers are encouraged to gradually accept more and moreresponsibility, and are assisted along the way by each other and byexisting programmers.XP assumes that you see yourself as part of a team, ideally one withclear goals and a plan of execution. XP assumes that you want to worktogether. XP assumes that change can be made inexpensive using thismethod. XP assumes that you want to grow, to improve your skills, andto improve your relationships. XP assumes you are willing to makechanges to meet those goals.Now I’m ready to answer the question posed by this chapter: whatis XP?✧XP is giving up old, ineffective technical and social habits in favorof new ones that work.✧XP is fully appreciating yourself for total effort today.✧XP is striving to do better tomorrow.', metadata={'source': './pdf/XP.pdf', 'page': 5}),\n",
       " Document(page_content='Chapter 1 What is XP?7✧XP is evaluating yourself by your contribution to the team’sshared goals.✧XP is asking to get some of your human needs met through soft-ware development.The rest of this book explores what to do to effect these changes andspeculates about why they work, personally and economically. Thebook is divided into two sections. The ﬁrst is practical, describing a wayof doing and thinking about software development that both assumesand satisﬁes human needs, including the need for relationships. Thesecond section covers the philosophical and historical roots of XP andplaces XP in today’s context.There are as many ways of reading this book and applying XP asthere are of getting into a cool pool on a hot day: one toe at a time,walking steadily down the steps, the cannonball, the racing dive. Theyall meet the goal of getting into the water. Your choice may be basedon style, speed, efﬁciency, or fear. Only you can decide which is rightfor you. I hope that in reading and applying this book you will come toa deeper understanding of why you are involved in software develop-ment and how you can ﬁnd satisfaction from this work.', metadata={'source': './pdf/XP.pdf', 'page': 6})]"
      ]
     },
     "execution_count": 13,
     "metadata": {},
     "output_type": "execute_result"
    }
   ],
   "source": [
    "pdf_docs = loader.load_and_split() # SPLIT\n",
    "pdf_docs"
   ]
  },
  {
   "cell_type": "code",
   "execution_count": 14,
   "metadata": {},
   "outputs": [
    {
     "data": {
      "text/plain": [
       "Document(page_content='1Chapter 1What is XP?Extreme Programming (XP) is about social change. It is about lettinggo of habits and patterns that were adaptive in the past, but now get inthe way of us doing our best work. It is about giving up the defensesthat protect us but interfere with our productivity. It may leave us feel-ing exposed. It is about being open about what we are capable of doing and thendoing it. And, allowing and expecting others to do the same. It isabout getting past our adolescent surety that “I know better thaneveryone else and all I need is to be left alone to be the greatest.” It isabout ﬁnding our adult place in the larger world, ﬁnding our place inthe community including the realm of business/work. It is about theprocess of becoming more of our best selves and in the process ourbest as developers. And, it is about writing great code that is reallygood for business.Good relationships lead to good business. Productivity and conﬁ-dence are related to our human relationships in the workplace as well asto our coding or other work activities. You need both technique andgood relationships to be successful. XP addresses both.Prepare for success. Don’t protect yourself from success by holdingback. Do your best and then deal with the consequences. That’sextreme. You leave yourself exposed. For some people that is incredi-bly scary, for others it’s daily life. That is why there are such polarizedreactions to XP.', metadata={'source': './pdf/XP.pdf', 'page': 0})"
      ]
     },
     "execution_count": 14,
     "metadata": {},
     "output_type": "execute_result"
    }
   ],
   "source": [
    "doc_obj = pdf_docs[0]\n",
    "doc_obj"
   ]
  },
  {
   "cell_type": "code",
   "execution_count": 15,
   "metadata": {},
   "outputs": [
    {
     "data": {
      "text/plain": [
       "'1Chapter 1What is XP?Extreme Programming (XP) is about social change. It is about lettinggo of habits and patterns that were adaptive in the past, but now get inthe way of us doing our best work. It is about giving up the defensesthat protect us but interfere with our productivity. It may leave us feel-ing exposed. It is about being open about what we are capable of doing and thendoing it. And, allowing and expecting others to do the same. It isabout getting past our adolescent surety that “I know better thaneveryone else and all I need is to be left alone to be the greatest.” It isabout ﬁnding our adult place in the larger world, ﬁnding our place inthe community including the realm of business/work. It is about theprocess of becoming more of our best selves and in the process ourbest as developers. And, it is about writing great code that is reallygood for business.Good relationships lead to good business. Productivity and conﬁ-dence are related to our human relationships in the workplace as well asto our coding or other work activities. You need both technique andgood relationships to be successful. XP addresses both.Prepare for success. Don’t protect yourself from success by holdingback. Do your best and then deal with the consequences. That’sextreme. You leave yourself exposed. For some people that is incredi-bly scary, for others it’s daily life. That is why there are such polarizedreactions to XP.'"
      ]
     },
     "execution_count": 15,
     "metadata": {},
     "output_type": "execute_result"
    }
   ],
   "source": [
    "doc_obj.page_content"
   ]
  },
  {
   "cell_type": "code",
   "execution_count": 16,
   "metadata": {},
   "outputs": [
    {
     "data": {
      "text/markdown": [
       "1Chapter 1What is XP?Extreme Programming (XP) is about social change. It is about lettinggo of habits and patterns that were adaptive in the past, but now get inthe way of us doing our best work. It is about giving up the defensesthat protect us but interfere with our productivity. It may leave us feel-ing exposed. It is about being open about what we are capable of doing and thendoing it. And, allowing and expecting others to do the same. It isabout getting past our adolescent surety that “I know better thaneveryone else and all I need is to be left alone to be the greatest.” It isabout ﬁnding our adult place in the larger world, ﬁnding our place inthe community including the realm of business/work. It is about theprocess of becoming more of our best selves and in the process ourbest as developers. And, it is about writing great code that is reallygood for business.Good relationships lead to good business. Productivity and conﬁ-dence are related to our human relationships in the workplace as well asto our coding or other work activities. You need both technique andgood relationships to be successful. XP addresses both.Prepare for success. Don’t protect yourself from success by holdingback. Do your best and then deal with the consequences. That’sextreme. You leave yourself exposed. For some people that is incredi-bly scary, for others it’s daily life. That is why there are such polarizedreactions to XP."
      ],
      "text/plain": [
       "<IPython.core.display.Markdown object>"
      ]
     },
     "execution_count": 16,
     "metadata": {},
     "output_type": "execute_result"
    }
   ],
   "source": [
    "from IPython.display import display, Markdown\n",
    "\n",
    "Markdown(doc_obj.page_content)"
   ]
  },
  {
   "cell_type": "code",
   "execution_count": 17,
   "metadata": {},
   "outputs": [
    {
     "data": {
      "text/plain": [
       "OllamaEmbeddings(base_url='http://localhost:11434', model='llama2', embed_instruction='passage: ', query_instruction='query: ', mirostat=None, mirostat_eta=None, mirostat_tau=None, num_ctx=None, num_gpu=None, num_thread=None, repeat_last_n=None, repeat_penalty=None, temperature=None, stop=None, tfs_z=None, top_k=None, top_p=None, show_progress=False, headers=None, model_kwargs=None)"
      ]
     },
     "execution_count": 17,
     "metadata": {},
     "output_type": "execute_result"
    }
   ],
   "source": [
    "from langchain.embeddings import OllamaEmbeddings\n",
    "embeddings = OllamaEmbeddings(model=\"llama2\")\n",
    "embeddings"
   ]
  },
  {
   "cell_type": "code",
   "execution_count": 18,
   "metadata": {},
   "outputs": [
    {
     "data": {
      "text/plain": [
       "<langchain_community.vectorstores.chroma.Chroma at 0x1212a18b0>"
      ]
     },
     "execution_count": 18,
     "metadata": {},
     "output_type": "execute_result"
    }
   ],
   "source": [
    "vectordb = Chroma.from_documents(pdf_docs, embedding=embeddings, persist_directory=\".\") # STORE\n",
    "vectordb"
   ]
  },
  {
   "cell_type": "code",
   "execution_count": 19,
   "metadata": {},
   "outputs": [
    {
     "data": {
      "text/plain": [
       "VectorStoreRetriever(tags=['Chroma', 'OllamaEmbeddings'], vectorstore=<langchain_community.vectorstores.chroma.Chroma object at 0x1212a18b0>)"
      ]
     },
     "execution_count": 19,
     "metadata": {},
     "output_type": "execute_result"
    }
   ],
   "source": [
    "retriever = vectordb.as_retriever() \n",
    "retriever"
   ]
  },
  {
   "cell_type": "code",
   "execution_count": 22,
   "metadata": {},
   "outputs": [],
   "source": [
    "from langchain.chat_models import ChatOllama\n",
    "llm = ChatOllama(model=\"llama2\", chat_format=True)\n"
   ]
  },
  {
   "cell_type": "code",
   "execution_count": 23,
   "metadata": {},
   "outputs": [
    {
     "data": {
      "text/plain": [
       "RetrievalQA(combine_documents_chain=StuffDocumentsChain(llm_chain=LLMChain(prompt=ChatPromptTemplate(input_variables=['context', 'question'], messages=[SystemMessagePromptTemplate(prompt=PromptTemplate(input_variables=['context'], template=\"Use the following pieces of context to answer the user's question. \\nIf you don't know the answer, just say that you don't know, don't try to make up an answer.\\n----------------\\n{context}\")), HumanMessagePromptTemplate(prompt=PromptTemplate(input_variables=['question'], template='{question}'))]), llm=ChatOllama()), document_prompt=PromptTemplate(input_variables=['page_content'], template='Context:\\n{page_content}'), document_variable_name='context'), retriever=VectorStoreRetriever(tags=['Chroma', 'OllamaEmbeddings'], vectorstore=<langchain_community.vectorstores.chroma.Chroma object at 0x1212a18b0>))"
      ]
     },
     "execution_count": 23,
     "metadata": {},
     "output_type": "execute_result"
    }
   ],
   "source": [
    "pdf_qa = RetrievalQA.from_llm(llm=llm, retriever=retriever) # RETRIEVE\n",
    "pdf_qa"
   ]
  },
  {
   "cell_type": "code",
   "execution_count": 24,
   "metadata": {},
   "outputs": [],
   "source": [
    "query = \"What are the main contributions of this paper with regards to self-knowledge in XP?\""
   ]
  },
  {
   "cell_type": "code",
   "execution_count": 26,
   "metadata": {},
   "outputs": [],
   "source": [
    "output = pdf_qa.invoke({\"query\": query})"
   ]
  },
  {
   "cell_type": "code",
   "execution_count": 27,
   "metadata": {},
   "outputs": [
    {
     "data": {
      "text/plain": [
       "{'query': 'What are the main contributions of this paper with regards to self-knowledge in XP?',\n",
       " 'result': \"The paper provides valuable insights into the importance of self-knowledge in Extreme Programming (XP), a software development methodology. The author emphasizes that self-knowledge is crucial for successful XP implementation, as it allows teams to adapt to changing requirements and meet their shared goals. Here are the main contributions of the paper with regards to self-knowledge in XP:\\n\\n1. Emphasis on human values: The author highlights the importance of recognizing and addressing human needs in software development, rather than just focusing on technical skills. This approach emphasizes the value of creating a safe and supportive environment for team members to share their thoughts and feelings openly.\\n2. Vulnerability as safety: The paper introduces the concept of vulnerability as safety, which suggests that sharing one's true feelings and thoughts can lead to a sense of safety and security among team members. This idea challenges traditional notions of self-protection and highlights the benefits of embracing vulnerability in XP.\\n3. Importance of full participation: The author stresses the importance of full participation in XP teams, where individuals are encouraged to give their best effort without holding back due to fear of failure. This approach fosters a sense of responsibility and accountability among team members, which can lead to better outcomes.\\n4. Role of feedback: The paper underscores the critical role of feedback in XP, both within the team and from external stakeholders. By receiving timely feedback, individuals can adjust their behavior and improve their performance, leading to a more effective and efficient development process.\\n5. Need for continuous learning: Finally, the author emphasizes the need for continuous learning and improvement in XP. By embracing a growth mindset and recognizing that there is always room for improvement, teams can maintain a high level of self-awareness and adaptability throughout the development process.\\n\\nIn summary, the paper highlights the significance of self-knowledge in XP by emphasizing the importance of addressing human needs, embracing vulnerability, promoting full participation, using feedback effectively, and cultivating a culture of continuous learning and improvement. By prioritizing these elements, teams can optimize their performance and achieve better outcomes in software development.\"}"
      ]
     },
     "execution_count": 27,
     "metadata": {},
     "output_type": "execute_result"
    }
   ],
   "source": [
    "output"
   ]
  },
  {
   "cell_type": "code",
   "execution_count": 28,
   "metadata": {},
   "outputs": [
    {
     "data": {
      "text/markdown": [
       "The paper provides valuable insights into the importance of self-knowledge in Extreme Programming (XP), a software development methodology. The author emphasizes that self-knowledge is crucial for successful XP implementation, as it allows teams to adapt to changing requirements and meet their shared goals. Here are the main contributions of the paper with regards to self-knowledge in XP:\n",
       "\n",
       "1. Emphasis on human values: The author highlights the importance of recognizing and addressing human needs in software development, rather than just focusing on technical skills. This approach emphasizes the value of creating a safe and supportive environment for team members to share their thoughts and feelings openly.\n",
       "2. Vulnerability as safety: The paper introduces the concept of vulnerability as safety, which suggests that sharing one's true feelings and thoughts can lead to a sense of safety and security among team members. This idea challenges traditional notions of self-protection and highlights the benefits of embracing vulnerability in XP.\n",
       "3. Importance of full participation: The author stresses the importance of full participation in XP teams, where individuals are encouraged to give their best effort without holding back due to fear of failure. This approach fosters a sense of responsibility and accountability among team members, which can lead to better outcomes.\n",
       "4. Role of feedback: The paper underscores the critical role of feedback in XP, both within the team and from external stakeholders. By receiving timely feedback, individuals can adjust their behavior and improve their performance, leading to a more effective and efficient development process.\n",
       "5. Need for continuous learning: Finally, the author emphasizes the need for continuous learning and improvement in XP. By embracing a growth mindset and recognizing that there is always room for improvement, teams can maintain a high level of self-awareness and adaptability throughout the development process.\n",
       "\n",
       "In summary, the paper highlights the significance of self-knowledge in XP by emphasizing the importance of addressing human needs, embracing vulnerability, promoting full participation, using feedback effectively, and cultivating a culture of continuous learning and improvement. By prioritizing these elements, teams can optimize their performance and achieve better outcomes in software development."
      ],
      "text/plain": [
       "<IPython.core.display.Markdown object>"
      ]
     },
     "execution_count": 28,
     "metadata": {},
     "output_type": "execute_result"
    }
   ],
   "source": [
    "final_answer = output[\"result\"]\n",
    "\n",
    "Markdown(final_answer)"
   ]
  },
  {
   "cell_type": "code",
   "execution_count": 29,
   "metadata": {},
   "outputs": [
    {
     "data": {
      "text/markdown": [
       "\n",
       "* XP is a software development discipline that addresses risk at all levels of the development process\n",
       "* XP calls for short release cycles, one-week iterations, and implementing the highest priority features ﬁrst to address schedule slips\n",
       "* XP creates and maintains a comprehensive suite of automated tests to address system goes sour risks\n",
       "* XP tests from the perspective of both programmers and customers to address defect rate risks\n",
       "* XP calls for business-oriented people to be ﬁrst-class members of the team to address business misunderstood risks"
      ],
      "text/plain": [
       "<IPython.core.display.Markdown object>"
      ]
     },
     "execution_count": 29,
     "metadata": {},
     "output_type": "execute_result"
    }
   ],
   "source": [
    "query_summary = \"Write a simple bullet points summary about this paper\"\n",
    "\n",
    " # adding chat history so the model remembers previous questions\n",
    "output = pdf_qa.invoke({\"query\": query_summary})\n",
    "\n",
    "Markdown(output[\"result\"])"
   ]
  }
 ],
 "metadata": {
  "kernelspec": {
   "display_name": "Python 3",
   "language": "python",
   "name": "python3"
  },
  "language_info": {
   "codemirror_mode": {
    "name": "ipython",
    "version": 3
   },
   "file_extension": ".py",
   "mimetype": "text/x-python",
   "name": "python",
   "nbconvert_exporter": "python",
   "pygments_lexer": "ipython3",
   "version": "3.9.6"
  }
 },
 "nbformat": 4,
 "nbformat_minor": 2
}
